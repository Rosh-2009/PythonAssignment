{
  "nbformat": 4,
  "nbformat_minor": 0,
  "metadata": {
    "colab": {
      "provenance": []
    },
    "kernelspec": {
      "name": "python3",
      "display_name": "Python 3"
    },
    "language_info": {
      "name": "python"
    }
  },
  "cells": [
    {
      "cell_type": "code",
      "execution_count": null,
      "metadata": {
        "id": "_idV5PvwxjYD"
      },
      "outputs": [],
      "source": []
    },
    {
      "cell_type": "markdown",
      "source": [
        "#List"
      ],
      "metadata": {
        "id": "jvUUHUvtxokh"
      }
    },
    {
      "cell_type": "markdown",
      "source": [
        "#Problem Statement 1:\n"
      ],
      "metadata": {
        "id": "1EZHcImxy--o"
      }
    },
    {
      "cell_type": "markdown",
      "source": [
        "## Question 1"
      ],
      "metadata": {
        "id": "Zp2Hc2_VB5BR"
      }
    },
    {
      "cell_type": "code",
      "source": [
        "#Write a program Add the file 'phone.jpg' to this list at the beginning. Then delete the file 'ball.png'. \n",
        "#In response, print the filenames list to the console.\n",
        "filenames = ['view.jpg', 'bear.jpg', 'ball.png']\n",
        "filenames.insert(0,'phone.jpg')\n",
        "print(filenames)\n",
        "filenames.remove('ball.png')\n",
        "print(filenames)"
      ],
      "metadata": {
        "colab": {
          "base_uri": "https://localhost:8080/"
        },
        "id": "saREmzhjxyRF",
        "outputId": "fc94ebe6-6d3b-4c70-eb04-299ab8887e64"
      },
      "execution_count": null,
      "outputs": [
        {
          "output_type": "stream",
          "name": "stdout",
          "text": [
            "['phone.jpg', 'view.jpg', 'bear.jpg', 'ball.png']\n",
            "['phone.jpg', 'view.jpg', 'bear.jpg']\n"
          ]
        }
      ]
    },
    {
      "cell_type": "markdown",
      "source": [
        "## Question 2:\n"
      ],
      "metadata": {
        "id": "zPKyGTp3zEwK"
      }
    },
    {
      "cell_type": "code",
      "source": [
        "#Write a program to find the maximum,minimum and average element in a given list without using max\n",
        "L = [1,2,3,4,5,6,7,8,9,10]\n",
        "min = L[0]\n",
        "max = L[0] \n",
        "for i in range(1, len(L)):   \n",
        "    if L[i] < min:\n",
        "        min = L[i]         \n",
        "    if L[i] > max:\n",
        "        max = L[i]         \n",
        "print('Minimum Element in the list is', min) \n",
        "print('Maximum Element in the list is', max)\n",
        "avg = sum(L)/len(L)\n",
        "print(\"Average of the list =\", avg)\n",
        "\n",
        "\n"
      ],
      "metadata": {
        "colab": {
          "base_uri": "https://localhost:8080/"
        },
        "id": "eTmZ1035zJJv",
        "outputId": "3b8e018b-d57f-4493-8b0d-178fa868e28f"
      },
      "execution_count": null,
      "outputs": [
        {
          "output_type": "stream",
          "name": "stdout",
          "text": [
            "Minimum Element in the list is 1\n",
            "Maximum Element in the list is 10\n",
            "Average of the list = 5.5\n"
          ]
        }
      ]
    },
    {
      "cell_type": "markdown",
      "source": [
        "#Problem Statement 2:"
      ],
      "metadata": {
        "id": "karZz6QyDZqD"
      }
    },
    {
      "cell_type": "markdown",
      "source": [
        "## Question 1"
      ],
      "metadata": {
        "id": "-kpl4APSCDdP"
      }
    },
    {
      "cell_type": "code",
      "source": [
        "#Write a program to print only unique elements\n",
        "L = [1,1,1,1,2,2,3,3,3,3,4,5]\n",
        "Unique_List = []\n",
        "for i in L:\n",
        "  if i not in Unique_List:\n",
        "    Unique_List.append(i)\n",
        "print(Unique_List)"
      ],
      "metadata": {
        "colab": {
          "base_uri": "https://localhost:8080/"
        },
        "id": "iYtJkeUnDe4A",
        "outputId": "fb949b58-cb9d-4e2d-876a-f07f79330172"
      },
      "execution_count": 17,
      "outputs": [
        {
          "output_type": "stream",
          "name": "stdout",
          "text": [
            "[1, 2, 3, 4, 5]\n"
          ]
        }
      ]
    },
    {
      "cell_type": "markdown",
      "source": [
        "## Question 2\n"
      ],
      "metadata": {
        "id": "_rwTtG0wCJKK"
      }
    },
    {
      "cell_type": "code",
      "source": [
        "#Check if the given number exist in the inner list\n",
        "n = int(input(\"Enter The Number \"))\n",
        "L = [1,2,3,4, [4,3] ]\n",
        "for i in L[-1]:\n",
        "    if i == n:\n",
        "        print(\"Number Exists\")\n"
      ],
      "metadata": {
        "colab": {
          "base_uri": "https://localhost:8080/"
        },
        "id": "bshvk041-Guh",
        "outputId": "674ebc23-a987-40b5-d7f5-5aea6ca82d0b"
      },
      "execution_count": 16,
      "outputs": [
        {
          "output_type": "stream",
          "name": "stdout",
          "text": [
            "Enter The Number 4\n",
            "Number Exists\n"
          ]
        }
      ]
    },
    {
      "cell_type": "markdown",
      "source": [
        "# Problem Statement 3:"
      ],
      "metadata": {
        "id": "slls_A0_CRec"
      }
    },
    {
      "cell_type": "markdown",
      "source": [
        "## Question 1"
      ],
      "metadata": {
        "id": "j-HRbC7YDI-R"
      }
    },
    {
      "cell_type": "code",
      "source": [
        "#Write a program to grab only positive numbers in each nested list and put that in a new list\n",
        "numbers_nested = [[1,-1,2],[0,-5,3,5,-2],[1,2,1,0,-2,-3]]\n",
        "list1 = [[i for i in x if i > 0] for x in numbers_nested]\n",
        "print(list1)\n",
        "new_list =[]\n",
        "new_list = [a for list1 in list1 for a in list1]\n",
        "print(new_list)"
      ],
      "metadata": {
        "colab": {
          "base_uri": "https://localhost:8080/"
        },
        "id": "m83Rnhc4CY5P",
        "outputId": "26155023-890c-4097-c74f-3146c7617d2d"
      },
      "execution_count": 28,
      "outputs": [
        {
          "output_type": "stream",
          "name": "stdout",
          "text": [
            "[[1, 2], [3, 5], [1, 2, 1]]\n",
            "[1, 2, 3, 5, 1, 2, 1]\n"
          ]
        }
      ]
    },
    {
      "cell_type": "markdown",
      "source": [
        "## Question 2"
      ],
      "metadata": {
        "id": "8B_rwGu7F8Z9"
      }
    },
    {
      "cell_type": "code",
      "source": [
        "#Write a program to to print the average sum of value from each inner list and print the sum of each average\n",
        "L = [ [1,2,3] , [ 4,5,6,3 ], [-1,-2,-10,5,8] ]\n",
        "avg1 = sum(L[0])/len(L[0])\n",
        "print(avg1)\n",
        "avg2 = sum(L[1])/len(L[1])\n",
        "print(avg2)\n",
        "avg3 = sum(L[2])/len(L[2])\n",
        "print(avg3)\n",
        "new_list = [avg1,avg2,avg3]\n",
        "print(sum(new_list))\n"
      ],
      "metadata": {
        "colab": {
          "base_uri": "https://localhost:8080/"
        },
        "id": "OKxzdEauF_AF",
        "outputId": "84442676-f9de-4302-aa26-2989472c08ba"
      },
      "execution_count": 37,
      "outputs": [
        {
          "output_type": "stream",
          "name": "stdout",
          "text": [
            "2.0\n",
            "4.5\n",
            "0.0\n",
            "6.5\n"
          ]
        }
      ]
    }
  ]
}