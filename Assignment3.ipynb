{
  "nbformat": 4,
  "nbformat_minor": 0,
  "metadata": {
    "colab": {
      "provenance": [],
      "authorship_tag": "ABX9TyNhl7alvz24tVIjz8PLiJV8",
      "include_colab_link": true
    },
    "kernelspec": {
      "name": "python3",
      "display_name": "Python 3"
    },
    "language_info": {
      "name": "python"
    }
  },
  "cells": [
    {
      "cell_type": "markdown",
      "metadata": {
        "id": "view-in-github",
        "colab_type": "text"
      },
      "source": [
        "<a href=\"https://colab.research.google.com/github/Rosh-2009/PythonAssignment/blob/main/Assignment3.ipynb\" target=\"_parent\"><img src=\"https://colab.research.google.com/assets/colab-badge.svg\" alt=\"Open In Colab\"/></a>"
      ]
    },
    {
      "cell_type": "code",
      "execution_count": null,
      "metadata": {
        "id": "UXWEoO3JuoDy"
      },
      "outputs": [],
      "source": []
    },
    {
      "cell_type": "markdown",
      "source": [
        "## Question No 1:\n"
      ],
      "metadata": {
        "id": "ZJGuhKJOuuMP"
      }
    },
    {
      "cell_type": "code",
      "source": [
        " # Write a Python function to sum all the numbers in a list.\n",
        "\n",
        "L = [8, 2, 3, 0, 7]\n",
        "total = 0\n",
        "for i in range(0,len(L)):\n",
        "  total = total + L[i]\n",
        "print(\"Sum of the elements in given List is = \", total)\n",
        "\n",
        "\n"
      ],
      "metadata": {
        "colab": {
          "base_uri": "https://localhost:8080/"
        },
        "id": "4bgI67AquyBs",
        "outputId": "6b718145-56cd-4dc0-a3d8-70bb8948f6a2"
      },
      "execution_count": null,
      "outputs": [
        {
          "output_type": "stream",
          "name": "stdout",
          "text": [
            "Sum of the elements in given List is =  20\n"
          ]
        }
      ]
    },
    {
      "cell_type": "markdown",
      "source": [
        "## Question No 2:"
      ],
      "metadata": {
        "id": "W5Rk8twsxpBW"
      }
    },
    {
      "cell_type": "code",
      "source": [
        "# Write a Python program to reverse a str\n",
        "str = \"1234abcd\"\n",
        "print(str[::-1])"
      ],
      "metadata": {
        "colab": {
          "base_uri": "https://localhost:8080/"
        },
        "id": "XP3gjUjJxyn5",
        "outputId": "08fbafd4-d269-463a-8dd0-96b71ac76124"
      },
      "execution_count": null,
      "outputs": [
        {
          "output_type": "stream",
          "name": "stdout",
          "text": [
            "dcba4321\n"
          ]
        }
      ]
    },
    {
      "cell_type": "markdown",
      "source": [
        "## Question No 3:\n"
      ],
      "metadata": {
        "id": "lp7YbpytymF7"
      }
    },
    {
      "cell_type": "code",
      "source": [
        "# Write a Python function that accepts a string and calculate the number of upper case letters and lower case letters.\n",
        "str = 'The quick Brow Fox'\n",
        "count1=0\n",
        "count2=0\n",
        "for i in str:\n",
        "      if(i.isupper()):\n",
        "            count1=count1+1\n",
        "      elif(i.islower()):\n",
        "            count2=count2+1\n",
        "print(\"No. of Upper case characters :\", count1)\n",
        "print(\"No. of Lower case Characters :\", count2)\n",
        "\n",
        "\n",
        "\n",
        "\n"
      ],
      "metadata": {
        "colab": {
          "base_uri": "https://localhost:8080/"
        },
        "id": "aGL5Y_9Oyp6H",
        "outputId": "21425bb3-1c91-4197-ae8a-faf200a492c0"
      },
      "execution_count": null,
      "outputs": [
        {
          "output_type": "stream",
          "name": "stdout",
          "text": [
            "No. of Upper case characters : 3\n",
            "No. of Lower case Characters : 12\n"
          ]
        }
      ]
    }
  ]
}